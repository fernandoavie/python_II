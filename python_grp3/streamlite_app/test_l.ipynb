{
 "cells": [
  {
   "cell_type": "code",
   "execution_count": 100,
   "metadata": {},
   "outputs": [],
   "source": [
    "import pandas as pd\n",
    "import pickle\n",
    "import joblib\n",
    "from datetime import timedelta\n",
    "\n",
    "def show_next_forecasts(start_date_str, end_date_str):\n",
    "    # Load the data\n",
    "    bike_data = pd.read_csv(\"/Users/lucazosso/Desktop/IE_Course/Term_2/Python II/Group_Assignement/python_grp3/data/bike_data_cleaned_features.csv\", index_col='date', parse_dates=['date'])\n",
    "    X_prep = pickle.load(open(\"/Users/lucazosso/Desktop/IE_Course/Term_2/Python II/Group_Assignement/python_grp3/streamlite_app/X_prep.pkl\", 'rb'))\n",
    "    model = joblib.load(\"/Users/lucazosso/Desktop/IE_Course/Term_2/Python II/Group_Assignement/python_grp3/streamlite_app/xgb_best_model.pkl\")\n",
    "\n",
    "    # Ensure the index is recognized as datetime\n",
    "    bike_data.index = pd.to_datetime(bike_data.index)\n",
    "    X_prep_df = pd.DataFrame(X_prep, index=bike_data.index)\n",
    "\n",
    "    # Convert string inputs to datetime\n",
    "    start_date = pd.to_datetime(start_date_str)\n",
    "    end_date = pd.to_datetime(end_date_str)\n",
    "    \n",
    "    # Retrieve the total_bike_ct for the input date range\n",
    "    y_time_range = bike_data.loc[start_date:end_date, 'total_bike_ct']\n",
    "    \n",
    "    # Calculate the date range in hours\n",
    "    date_range_hours = (end_date - start_date).total_seconds() / 3600\n",
    "    \n",
    "    # Adjust dates for the next period forecast\n",
    "    next_start_date = end_date + timedelta(days=1)\n",
    "    next_end_date = next_start_date + (end_date - start_date)\n",
    "    \n",
    "    # Filter X_prep for the forecast period using correct datetime indexing\n",
    "    X_test = X_prep_df.loc[next_start_date:next_end_date]\n",
    "\n",
    "    # Predict using the model\n",
    "    preds = model.predict(X_test)\n",
    "    \n",
    "    # Compute confidence interval for each prediction\n",
    "    preds_mean = preds.mean()\n",
    "    preds_std = preds.std()\n",
    "    preds_lower = preds_mean - 1.96 * preds_std\n",
    "    preds_upper = preds_mean + 1.96 * preds_std\n",
    "\n",
    "    return y_time_range, preds, date_range_hours, preds_lower, preds_upper\n",
    "\n"
   ]
  },
  {
   "cell_type": "code",
   "execution_count": 101,
   "metadata": {},
   "outputs": [
    {
     "name": "stdout",
     "output_type": "stream",
     "text": [
      "Date range in hours: 24.0\n",
      "yt: date\n",
      "2011-01-01 00:00:00     16\n",
      "2011-01-01 01:00:00     40\n",
      "2011-01-01 02:00:00     32\n",
      "2011-01-01 03:00:00     13\n",
      "2011-01-01 04:00:00      1\n",
      "2011-01-01 05:00:00      1\n",
      "2011-01-01 06:00:00      2\n",
      "2011-01-01 07:00:00      3\n",
      "2011-01-01 08:00:00      8\n",
      "2011-01-01 09:00:00     14\n",
      "2011-01-01 10:00:00     36\n",
      "2011-01-01 11:00:00     56\n",
      "2011-01-01 12:00:00     84\n",
      "2011-01-01 13:00:00     94\n",
      "2011-01-01 14:00:00    106\n",
      "2011-01-01 15:00:00    110\n",
      "2011-01-01 16:00:00     93\n",
      "2011-01-01 17:00:00     67\n",
      "2011-01-01 18:00:00     35\n",
      "2011-01-01 19:00:00     37\n",
      "2011-01-01 20:00:00     36\n",
      "2011-01-01 21:00:00     34\n",
      "2011-01-01 22:00:00     28\n",
      "2011-01-01 23:00:00     39\n",
      "2011-01-02 00:00:00     17\n",
      "Name: total_bike_ct, dtype: int64\n",
      "Predictions: [  3.9226925   2.1304994   1.2024482   3.1502924  26.45015    64.49219\n",
      " 154.74      100.64156    45.833595   53.285183   69.65953    62.363365\n",
      "  68.70695    72.99269    94.88722   159.2961    145.61067   107.861855\n",
      "  53.88501    49.187122   26.9038     17.220749    5.8487835]\n"
     ]
    }
   ],
   "source": [
    "# Example usage:\n",
    "start = '2011-01-01'\n",
    "end = '2011-01-02'\n",
    "yt, yt_1, hours, preds_lower, preds_upper = show_next_forecasts(start, end)\n",
    "print(f\"Date range in hours: {hours}\")\n",
    "print(f\"yt: {yt}\")\n",
    "print(f\"Predictions: {yt_1}\")"
   ]
  },
  {
   "cell_type": "code",
   "execution_count": 90,
   "metadata": {},
   "outputs": [
    {
     "name": "stdout",
     "output_type": "stream",
     "text": [
      "DatetimeIndex(['2011-01-01 00:00:00', '2011-01-01 01:00:00',\n",
      "               '2011-01-01 02:00:00', '2011-01-01 03:00:00',\n",
      "               '2011-01-01 04:00:00', '2011-01-01 05:00:00',\n",
      "               '2011-01-01 06:00:00', '2011-01-01 07:00:00',\n",
      "               '2011-01-01 08:00:00', '2011-01-01 09:00:00',\n",
      "               '2011-01-01 10:00:00', '2011-01-01 11:00:00',\n",
      "               '2011-01-01 12:00:00', '2011-01-01 13:00:00',\n",
      "               '2011-01-01 14:00:00', '2011-01-01 15:00:00',\n",
      "               '2011-01-01 16:00:00', '2011-01-01 17:00:00',\n",
      "               '2011-01-01 18:00:00', '2011-01-01 19:00:00',\n",
      "               '2011-01-01 20:00:00', '2011-01-01 21:00:00',\n",
      "               '2011-01-01 22:00:00', '2011-01-01 23:00:00',\n",
      "               '2011-01-02 00:00:00', '2011-01-02 01:00:00',\n",
      "               '2011-01-02 02:00:00', '2011-01-02 03:00:00',\n",
      "               '2011-01-02 04:00:00', '2011-01-02 05:00:00',\n",
      "               '2011-01-02 06:00:00', '2011-01-02 07:00:00',\n",
      "               '2011-01-02 08:00:00', '2011-01-02 09:00:00',\n",
      "               '2011-01-02 10:00:00', '2011-01-02 11:00:00',\n",
      "               '2011-01-02 12:00:00', '2011-01-02 13:00:00',\n",
      "               '2011-01-02 14:00:00', '2011-01-02 15:00:00',\n",
      "               '2011-01-02 16:00:00', '2011-01-02 17:00:00',\n",
      "               '2011-01-02 18:00:00', '2011-01-02 19:00:00',\n",
      "               '2011-01-02 20:00:00', '2011-01-02 21:00:00',\n",
      "               '2011-01-02 22:00:00', '2011-01-02 23:00:00',\n",
      "               '2011-01-03 00:00:00'],\n",
      "              dtype='datetime64[ns]', freq='H')\n"
     ]
    }
   ],
   "source": [
    "# Get the start date from yt\n",
    "start_date = yt.index[0]\n",
    "\n",
    "# Get the end date from yt and calculate the new end date\n",
    "end_date = yt.index[-1]\n",
    "new_end_date = end_date + (end_date - start_date)\n",
    "\n",
    "# Create the new date range\n",
    "new_index = pd.date_range(start=start_date, end=new_end_date, freq='H')\n",
    "\n",
    "print(new_index)"
   ]
  },
  {
   "cell_type": "code",
   "execution_count": 91,
   "metadata": {},
   "outputs": [
    {
     "name": "stdout",
     "output_type": "stream",
     "text": [
      "                     total_bike_ct        yt_1\n",
      "2011-01-01 00:00:00           16.0         NaN\n",
      "2011-01-01 01:00:00           40.0         NaN\n",
      "2011-01-01 02:00:00           32.0         NaN\n",
      "2011-01-01 03:00:00           13.0         NaN\n",
      "2011-01-01 04:00:00            1.0         NaN\n",
      "2011-01-01 05:00:00            1.0         NaN\n",
      "2011-01-01 06:00:00            2.0         NaN\n",
      "2011-01-01 07:00:00            3.0         NaN\n",
      "2011-01-01 08:00:00            8.0         NaN\n",
      "2011-01-01 09:00:00           14.0         NaN\n",
      "2011-01-01 10:00:00           36.0         NaN\n",
      "2011-01-01 11:00:00           56.0         NaN\n",
      "2011-01-01 12:00:00           84.0         NaN\n",
      "2011-01-01 13:00:00           94.0         NaN\n",
      "2011-01-01 14:00:00          106.0         NaN\n",
      "2011-01-01 15:00:00          110.0         NaN\n",
      "2011-01-01 16:00:00           93.0         NaN\n",
      "2011-01-01 17:00:00           67.0         NaN\n",
      "2011-01-01 18:00:00           35.0         NaN\n",
      "2011-01-01 19:00:00           37.0         NaN\n",
      "2011-01-01 20:00:00           36.0         NaN\n",
      "2011-01-01 21:00:00           34.0         NaN\n",
      "2011-01-01 22:00:00           28.0         NaN\n",
      "2011-01-01 23:00:00           39.0         NaN\n",
      "2011-01-02 00:00:00           17.0         NaN\n",
      "2011-01-02 02:00:00            NaN    3.922693\n",
      "2011-01-02 03:00:00            NaN    2.130499\n",
      "2011-01-02 04:00:00            NaN    1.202448\n",
      "2011-01-02 05:00:00            NaN    3.150292\n",
      "2011-01-02 06:00:00            NaN   26.450150\n",
      "2011-01-02 07:00:00            NaN   64.492188\n",
      "2011-01-02 08:00:00            NaN  154.740005\n",
      "2011-01-02 09:00:00            NaN  100.641563\n",
      "2011-01-02 10:00:00            NaN   45.833595\n",
      "2011-01-02 11:00:00            NaN   53.285183\n",
      "2011-01-02 12:00:00            NaN   69.659531\n",
      "2011-01-02 13:00:00            NaN   62.363365\n",
      "2011-01-02 14:00:00            NaN   68.706947\n",
      "2011-01-02 15:00:00            NaN   72.992691\n",
      "2011-01-02 16:00:00            NaN   94.887222\n",
      "2011-01-02 17:00:00            NaN  159.296097\n",
      "2011-01-02 18:00:00            NaN  145.610672\n",
      "2011-01-02 19:00:00            NaN  107.861855\n",
      "2011-01-02 20:00:00            NaN   53.885010\n",
      "2011-01-02 21:00:00            NaN   49.187122\n",
      "2011-01-02 22:00:00            NaN   26.903799\n",
      "2011-01-02 23:00:00            NaN   17.220749\n",
      "2011-01-03 00:00:00            NaN    5.848783\n"
     ]
    }
   ],
   "source": [
    "# Combine yt and yt_1 into a single dataframe, note that yt_1 is a numpy array and should have for index the last part from the new index\n",
    "yt_1_df = pd.DataFrame(yt_1, index=new_index[-yt_1.shape[0]:], columns=['yt_1'])\n",
    "# Concatenate yt and yt_1_df along the column axis\n",
    "yt_combined = pd.concat([yt, yt_1_df], axis=1)\n",
    "\n",
    "# Print yt_combined\n",
    "print(yt_combined)\n"
   ]
  },
  {
   "cell_type": "code",
   "execution_count": 92,
   "metadata": {},
   "outputs": [
    {
     "data": {
      "application/vnd.plotly.v1+json": {
       "config": {
        "plotlyServerURL": "https://plot.ly"
       },
       "data": [
        {
         "mode": "lines",
         "name": "total_bike_ct",
         "type": "scatter",
         "x": [
          "2011-01-01T00:00:00",
          "2011-01-01T01:00:00",
          "2011-01-01T02:00:00",
          "2011-01-01T03:00:00",
          "2011-01-01T04:00:00",
          "2011-01-01T05:00:00",
          "2011-01-01T06:00:00",
          "2011-01-01T07:00:00",
          "2011-01-01T08:00:00",
          "2011-01-01T09:00:00",
          "2011-01-01T10:00:00",
          "2011-01-01T11:00:00",
          "2011-01-01T12:00:00",
          "2011-01-01T13:00:00",
          "2011-01-01T14:00:00",
          "2011-01-01T15:00:00",
          "2011-01-01T16:00:00",
          "2011-01-01T17:00:00",
          "2011-01-01T18:00:00",
          "2011-01-01T19:00:00",
          "2011-01-01T20:00:00",
          "2011-01-01T21:00:00",
          "2011-01-01T22:00:00",
          "2011-01-01T23:00:00",
          "2011-01-02T00:00:00",
          "2011-01-02T02:00:00",
          "2011-01-02T03:00:00",
          "2011-01-02T04:00:00",
          "2011-01-02T05:00:00",
          "2011-01-02T06:00:00",
          "2011-01-02T07:00:00",
          "2011-01-02T08:00:00",
          "2011-01-02T09:00:00",
          "2011-01-02T10:00:00",
          "2011-01-02T11:00:00",
          "2011-01-02T12:00:00",
          "2011-01-02T13:00:00",
          "2011-01-02T14:00:00",
          "2011-01-02T15:00:00",
          "2011-01-02T16:00:00",
          "2011-01-02T17:00:00",
          "2011-01-02T18:00:00",
          "2011-01-02T19:00:00",
          "2011-01-02T20:00:00",
          "2011-01-02T21:00:00",
          "2011-01-02T22:00:00",
          "2011-01-02T23:00:00",
          "2011-01-03T00:00:00"
         ],
         "y": [
          16,
          40,
          32,
          13,
          1,
          1,
          2,
          3,
          8,
          14,
          36,
          56,
          84,
          94,
          106,
          110,
          93,
          67,
          35,
          37,
          36,
          34,
          28,
          39,
          17,
          null,
          null,
          null,
          null,
          null,
          null,
          null,
          null,
          null,
          null,
          null,
          null,
          null,
          null,
          null,
          null,
          null,
          null,
          null,
          null,
          null,
          null,
          null
         ]
        },
        {
         "line": {
          "dash": "dot"
         },
         "mode": "lines",
         "name": "yt_1",
         "type": "scatter",
         "x": [
          "2011-01-01T00:00:00",
          "2011-01-01T01:00:00",
          "2011-01-01T02:00:00",
          "2011-01-01T03:00:00",
          "2011-01-01T04:00:00",
          "2011-01-01T05:00:00",
          "2011-01-01T06:00:00",
          "2011-01-01T07:00:00",
          "2011-01-01T08:00:00",
          "2011-01-01T09:00:00",
          "2011-01-01T10:00:00",
          "2011-01-01T11:00:00",
          "2011-01-01T12:00:00",
          "2011-01-01T13:00:00",
          "2011-01-01T14:00:00",
          "2011-01-01T15:00:00",
          "2011-01-01T16:00:00",
          "2011-01-01T17:00:00",
          "2011-01-01T18:00:00",
          "2011-01-01T19:00:00",
          "2011-01-01T20:00:00",
          "2011-01-01T21:00:00",
          "2011-01-01T22:00:00",
          "2011-01-01T23:00:00",
          "2011-01-02T00:00:00",
          "2011-01-02T02:00:00",
          "2011-01-02T03:00:00",
          "2011-01-02T04:00:00",
          "2011-01-02T05:00:00",
          "2011-01-02T06:00:00",
          "2011-01-02T07:00:00",
          "2011-01-02T08:00:00",
          "2011-01-02T09:00:00",
          "2011-01-02T10:00:00",
          "2011-01-02T11:00:00",
          "2011-01-02T12:00:00",
          "2011-01-02T13:00:00",
          "2011-01-02T14:00:00",
          "2011-01-02T15:00:00",
          "2011-01-02T16:00:00",
          "2011-01-02T17:00:00",
          "2011-01-02T18:00:00",
          "2011-01-02T19:00:00",
          "2011-01-02T20:00:00",
          "2011-01-02T21:00:00",
          "2011-01-02T22:00:00",
          "2011-01-02T23:00:00",
          "2011-01-03T00:00:00"
         ],
         "y": [
          null,
          null,
          null,
          null,
          null,
          null,
          null,
          null,
          null,
          null,
          null,
          null,
          null,
          null,
          null,
          null,
          null,
          null,
          null,
          null,
          null,
          null,
          null,
          null,
          null,
          3.9226925373077393,
          2.1304993629455566,
          1.2024482488632202,
          3.15029239654541,
          26.450149536132812,
          64.4921875,
          154.74000549316406,
          100.64156341552734,
          45.833595275878906,
          53.28518295288086,
          69.65953063964844,
          62.363365173339844,
          68.70694732666016,
          72.99269104003906,
          94.88722229003906,
          159.2960968017578,
          145.6106719970703,
          107.86185455322266,
          53.885009765625,
          49.1871223449707,
          26.903799057006836,
          17.220748901367188,
          5.848783493041992
         ]
        }
       ],
       "layout": {
        "template": {
         "data": {
          "bar": [
           {
            "error_x": {
             "color": "#2a3f5f"
            },
            "error_y": {
             "color": "#2a3f5f"
            },
            "marker": {
             "line": {
              "color": "#E5ECF6",
              "width": 0.5
             },
             "pattern": {
              "fillmode": "overlay",
              "size": 10,
              "solidity": 0.2
             }
            },
            "type": "bar"
           }
          ],
          "barpolar": [
           {
            "marker": {
             "line": {
              "color": "#E5ECF6",
              "width": 0.5
             },
             "pattern": {
              "fillmode": "overlay",
              "size": 10,
              "solidity": 0.2
             }
            },
            "type": "barpolar"
           }
          ],
          "carpet": [
           {
            "aaxis": {
             "endlinecolor": "#2a3f5f",
             "gridcolor": "white",
             "linecolor": "white",
             "minorgridcolor": "white",
             "startlinecolor": "#2a3f5f"
            },
            "baxis": {
             "endlinecolor": "#2a3f5f",
             "gridcolor": "white",
             "linecolor": "white",
             "minorgridcolor": "white",
             "startlinecolor": "#2a3f5f"
            },
            "type": "carpet"
           }
          ],
          "choropleth": [
           {
            "colorbar": {
             "outlinewidth": 0,
             "ticks": ""
            },
            "type": "choropleth"
           }
          ],
          "contour": [
           {
            "colorbar": {
             "outlinewidth": 0,
             "ticks": ""
            },
            "colorscale": [
             [
              0,
              "#0d0887"
             ],
             [
              0.1111111111111111,
              "#46039f"
             ],
             [
              0.2222222222222222,
              "#7201a8"
             ],
             [
              0.3333333333333333,
              "#9c179e"
             ],
             [
              0.4444444444444444,
              "#bd3786"
             ],
             [
              0.5555555555555556,
              "#d8576b"
             ],
             [
              0.6666666666666666,
              "#ed7953"
             ],
             [
              0.7777777777777778,
              "#fb9f3a"
             ],
             [
              0.8888888888888888,
              "#fdca26"
             ],
             [
              1,
              "#f0f921"
             ]
            ],
            "type": "contour"
           }
          ],
          "contourcarpet": [
           {
            "colorbar": {
             "outlinewidth": 0,
             "ticks": ""
            },
            "type": "contourcarpet"
           }
          ],
          "heatmap": [
           {
            "colorbar": {
             "outlinewidth": 0,
             "ticks": ""
            },
            "colorscale": [
             [
              0,
              "#0d0887"
             ],
             [
              0.1111111111111111,
              "#46039f"
             ],
             [
              0.2222222222222222,
              "#7201a8"
             ],
             [
              0.3333333333333333,
              "#9c179e"
             ],
             [
              0.4444444444444444,
              "#bd3786"
             ],
             [
              0.5555555555555556,
              "#d8576b"
             ],
             [
              0.6666666666666666,
              "#ed7953"
             ],
             [
              0.7777777777777778,
              "#fb9f3a"
             ],
             [
              0.8888888888888888,
              "#fdca26"
             ],
             [
              1,
              "#f0f921"
             ]
            ],
            "type": "heatmap"
           }
          ],
          "heatmapgl": [
           {
            "colorbar": {
             "outlinewidth": 0,
             "ticks": ""
            },
            "colorscale": [
             [
              0,
              "#0d0887"
             ],
             [
              0.1111111111111111,
              "#46039f"
             ],
             [
              0.2222222222222222,
              "#7201a8"
             ],
             [
              0.3333333333333333,
              "#9c179e"
             ],
             [
              0.4444444444444444,
              "#bd3786"
             ],
             [
              0.5555555555555556,
              "#d8576b"
             ],
             [
              0.6666666666666666,
              "#ed7953"
             ],
             [
              0.7777777777777778,
              "#fb9f3a"
             ],
             [
              0.8888888888888888,
              "#fdca26"
             ],
             [
              1,
              "#f0f921"
             ]
            ],
            "type": "heatmapgl"
           }
          ],
          "histogram": [
           {
            "marker": {
             "pattern": {
              "fillmode": "overlay",
              "size": 10,
              "solidity": 0.2
             }
            },
            "type": "histogram"
           }
          ],
          "histogram2d": [
           {
            "colorbar": {
             "outlinewidth": 0,
             "ticks": ""
            },
            "colorscale": [
             [
              0,
              "#0d0887"
             ],
             [
              0.1111111111111111,
              "#46039f"
             ],
             [
              0.2222222222222222,
              "#7201a8"
             ],
             [
              0.3333333333333333,
              "#9c179e"
             ],
             [
              0.4444444444444444,
              "#bd3786"
             ],
             [
              0.5555555555555556,
              "#d8576b"
             ],
             [
              0.6666666666666666,
              "#ed7953"
             ],
             [
              0.7777777777777778,
              "#fb9f3a"
             ],
             [
              0.8888888888888888,
              "#fdca26"
             ],
             [
              1,
              "#f0f921"
             ]
            ],
            "type": "histogram2d"
           }
          ],
          "histogram2dcontour": [
           {
            "colorbar": {
             "outlinewidth": 0,
             "ticks": ""
            },
            "colorscale": [
             [
              0,
              "#0d0887"
             ],
             [
              0.1111111111111111,
              "#46039f"
             ],
             [
              0.2222222222222222,
              "#7201a8"
             ],
             [
              0.3333333333333333,
              "#9c179e"
             ],
             [
              0.4444444444444444,
              "#bd3786"
             ],
             [
              0.5555555555555556,
              "#d8576b"
             ],
             [
              0.6666666666666666,
              "#ed7953"
             ],
             [
              0.7777777777777778,
              "#fb9f3a"
             ],
             [
              0.8888888888888888,
              "#fdca26"
             ],
             [
              1,
              "#f0f921"
             ]
            ],
            "type": "histogram2dcontour"
           }
          ],
          "mesh3d": [
           {
            "colorbar": {
             "outlinewidth": 0,
             "ticks": ""
            },
            "type": "mesh3d"
           }
          ],
          "parcoords": [
           {
            "line": {
             "colorbar": {
              "outlinewidth": 0,
              "ticks": ""
             }
            },
            "type": "parcoords"
           }
          ],
          "pie": [
           {
            "automargin": true,
            "type": "pie"
           }
          ],
          "scatter": [
           {
            "fillpattern": {
             "fillmode": "overlay",
             "size": 10,
             "solidity": 0.2
            },
            "type": "scatter"
           }
          ],
          "scatter3d": [
           {
            "line": {
             "colorbar": {
              "outlinewidth": 0,
              "ticks": ""
             }
            },
            "marker": {
             "colorbar": {
              "outlinewidth": 0,
              "ticks": ""
             }
            },
            "type": "scatter3d"
           }
          ],
          "scattercarpet": [
           {
            "marker": {
             "colorbar": {
              "outlinewidth": 0,
              "ticks": ""
             }
            },
            "type": "scattercarpet"
           }
          ],
          "scattergeo": [
           {
            "marker": {
             "colorbar": {
              "outlinewidth": 0,
              "ticks": ""
             }
            },
            "type": "scattergeo"
           }
          ],
          "scattergl": [
           {
            "marker": {
             "colorbar": {
              "outlinewidth": 0,
              "ticks": ""
             }
            },
            "type": "scattergl"
           }
          ],
          "scattermapbox": [
           {
            "marker": {
             "colorbar": {
              "outlinewidth": 0,
              "ticks": ""
             }
            },
            "type": "scattermapbox"
           }
          ],
          "scatterpolar": [
           {
            "marker": {
             "colorbar": {
              "outlinewidth": 0,
              "ticks": ""
             }
            },
            "type": "scatterpolar"
           }
          ],
          "scatterpolargl": [
           {
            "marker": {
             "colorbar": {
              "outlinewidth": 0,
              "ticks": ""
             }
            },
            "type": "scatterpolargl"
           }
          ],
          "scatterternary": [
           {
            "marker": {
             "colorbar": {
              "outlinewidth": 0,
              "ticks": ""
             }
            },
            "type": "scatterternary"
           }
          ],
          "surface": [
           {
            "colorbar": {
             "outlinewidth": 0,
             "ticks": ""
            },
            "colorscale": [
             [
              0,
              "#0d0887"
             ],
             [
              0.1111111111111111,
              "#46039f"
             ],
             [
              0.2222222222222222,
              "#7201a8"
             ],
             [
              0.3333333333333333,
              "#9c179e"
             ],
             [
              0.4444444444444444,
              "#bd3786"
             ],
             [
              0.5555555555555556,
              "#d8576b"
             ],
             [
              0.6666666666666666,
              "#ed7953"
             ],
             [
              0.7777777777777778,
              "#fb9f3a"
             ],
             [
              0.8888888888888888,
              "#fdca26"
             ],
             [
              1,
              "#f0f921"
             ]
            ],
            "type": "surface"
           }
          ],
          "table": [
           {
            "cells": {
             "fill": {
              "color": "#EBF0F8"
             },
             "line": {
              "color": "white"
             }
            },
            "header": {
             "fill": {
              "color": "#C8D4E3"
             },
             "line": {
              "color": "white"
             }
            },
            "type": "table"
           }
          ]
         },
         "layout": {
          "annotationdefaults": {
           "arrowcolor": "#2a3f5f",
           "arrowhead": 0,
           "arrowwidth": 1
          },
          "autotypenumbers": "strict",
          "coloraxis": {
           "colorbar": {
            "outlinewidth": 0,
            "ticks": ""
           }
          },
          "colorscale": {
           "diverging": [
            [
             0,
             "#8e0152"
            ],
            [
             0.1,
             "#c51b7d"
            ],
            [
             0.2,
             "#de77ae"
            ],
            [
             0.3,
             "#f1b6da"
            ],
            [
             0.4,
             "#fde0ef"
            ],
            [
             0.5,
             "#f7f7f7"
            ],
            [
             0.6,
             "#e6f5d0"
            ],
            [
             0.7,
             "#b8e186"
            ],
            [
             0.8,
             "#7fbc41"
            ],
            [
             0.9,
             "#4d9221"
            ],
            [
             1,
             "#276419"
            ]
           ],
           "sequential": [
            [
             0,
             "#0d0887"
            ],
            [
             0.1111111111111111,
             "#46039f"
            ],
            [
             0.2222222222222222,
             "#7201a8"
            ],
            [
             0.3333333333333333,
             "#9c179e"
            ],
            [
             0.4444444444444444,
             "#bd3786"
            ],
            [
             0.5555555555555556,
             "#d8576b"
            ],
            [
             0.6666666666666666,
             "#ed7953"
            ],
            [
             0.7777777777777778,
             "#fb9f3a"
            ],
            [
             0.8888888888888888,
             "#fdca26"
            ],
            [
             1,
             "#f0f921"
            ]
           ],
           "sequentialminus": [
            [
             0,
             "#0d0887"
            ],
            [
             0.1111111111111111,
             "#46039f"
            ],
            [
             0.2222222222222222,
             "#7201a8"
            ],
            [
             0.3333333333333333,
             "#9c179e"
            ],
            [
             0.4444444444444444,
             "#bd3786"
            ],
            [
             0.5555555555555556,
             "#d8576b"
            ],
            [
             0.6666666666666666,
             "#ed7953"
            ],
            [
             0.7777777777777778,
             "#fb9f3a"
            ],
            [
             0.8888888888888888,
             "#fdca26"
            ],
            [
             1,
             "#f0f921"
            ]
           ]
          },
          "colorway": [
           "#636efa",
           "#EF553B",
           "#00cc96",
           "#ab63fa",
           "#FFA15A",
           "#19d3f3",
           "#FF6692",
           "#B6E880",
           "#FF97FF",
           "#FECB52"
          ],
          "font": {
           "color": "#2a3f5f"
          },
          "geo": {
           "bgcolor": "white",
           "lakecolor": "white",
           "landcolor": "#E5ECF6",
           "showlakes": true,
           "showland": true,
           "subunitcolor": "white"
          },
          "hoverlabel": {
           "align": "left"
          },
          "hovermode": "closest",
          "mapbox": {
           "style": "light"
          },
          "paper_bgcolor": "white",
          "plot_bgcolor": "#E5ECF6",
          "polar": {
           "angularaxis": {
            "gridcolor": "white",
            "linecolor": "white",
            "ticks": ""
           },
           "bgcolor": "#E5ECF6",
           "radialaxis": {
            "gridcolor": "white",
            "linecolor": "white",
            "ticks": ""
           }
          },
          "scene": {
           "xaxis": {
            "backgroundcolor": "#E5ECF6",
            "gridcolor": "white",
            "gridwidth": 2,
            "linecolor": "white",
            "showbackground": true,
            "ticks": "",
            "zerolinecolor": "white"
           },
           "yaxis": {
            "backgroundcolor": "#E5ECF6",
            "gridcolor": "white",
            "gridwidth": 2,
            "linecolor": "white",
            "showbackground": true,
            "ticks": "",
            "zerolinecolor": "white"
           },
           "zaxis": {
            "backgroundcolor": "#E5ECF6",
            "gridcolor": "white",
            "gridwidth": 2,
            "linecolor": "white",
            "showbackground": true,
            "ticks": "",
            "zerolinecolor": "white"
           }
          },
          "shapedefaults": {
           "line": {
            "color": "#2a3f5f"
           }
          },
          "ternary": {
           "aaxis": {
            "gridcolor": "white",
            "linecolor": "white",
            "ticks": ""
           },
           "baxis": {
            "gridcolor": "white",
            "linecolor": "white",
            "ticks": ""
           },
           "bgcolor": "#E5ECF6",
           "caxis": {
            "gridcolor": "white",
            "linecolor": "white",
            "ticks": ""
           }
          },
          "title": {
           "x": 0.05
          },
          "xaxis": {
           "automargin": true,
           "gridcolor": "white",
           "linecolor": "white",
           "ticks": "",
           "title": {
            "standoff": 15
           },
           "zerolinecolor": "white",
           "zerolinewidth": 2
          },
          "yaxis": {
           "automargin": true,
           "gridcolor": "white",
           "linecolor": "white",
           "ticks": "",
           "title": {
            "standoff": 15
           },
           "zerolinecolor": "white",
           "zerolinewidth": 2
          }
         }
        }
       }
      }
     },
     "metadata": {},
     "output_type": "display_data"
    }
   ],
   "source": [
    "# Using plotly plot total_bike_ct and the forecasted values(yt_1) in the same plot, yt_1 should be in a different color and dotted\n",
    "import plotly.graph_objects as go\n",
    "fig = go.Figure()\n",
    "fig.add_trace(go.Scatter(x=yt_combined.index, y=yt_combined['total_bike_ct'], mode='lines', name='total_bike_ct'))\n",
    "fig.add_trace(go.Scatter(x=yt_combined.index, y=yt_combined['yt_1'], mode='lines', name='yt_1', line=dict(dash='dot')))\n",
    "fig.show()"
   ]
  },
  {
   "cell_type": "code",
   "execution_count": 96,
   "metadata": {},
   "outputs": [
    {
     "name": "stdout",
     "output_type": "stream",
     "text": [
      "            total_bike_ct         yt_1\n",
      "2011-01-01          985.0     0.000000\n",
      "2011-01-02           17.0  1384.423706\n",
      "2011-01-03            0.0     5.848783\n"
     ]
    }
   ],
   "source": [
    "# using yt_combined, sum all the hours for each day for both columns\n",
    "yt_combined_day = yt_combined.resample('D').sum()\n",
    "print(yt_combined_day)"
   ]
  },
  {
   "cell_type": "code",
   "execution_count": 94,
   "metadata": {},
   "outputs": [],
   "source": [
    "def resample_df_agg(freq, aggtype='sum'):\n",
    "    if isinstance(yt_combined, pd.DataFrame) and isinstance(yt_combined.index, pd.DatetimeIndex):\n",
    "        resampled_data = yt_combined.resample(freq).agg(aggtype)\n",
    "        return resampled_data\n",
    "    else:\n",
    "        print(\"yt_combined should be a DataFrame with a DateTimeIndex.\")\n",
    "        return None\n",
    "\n"
   ]
  },
  {
   "cell_type": "code",
   "execution_count": 95,
   "metadata": {},
   "outputs": [
    {
     "name": "stdout",
     "output_type": "stream",
     "text": [
      "            total_bike_ct         yt_1\n",
      "2011-01-01          985.0     0.000000\n",
      "2011-01-02           17.0  1384.423706\n",
      "2011-01-03            0.0     5.848783\n"
     ]
    }
   ],
   "source": [
    "# Example usage:\n",
    "resampled_data = resample_df_agg('D', 'sum')\n",
    "print(resampled_data)"
   ]
  },
  {
   "cell_type": "code",
   "execution_count": 102,
   "metadata": {},
   "outputs": [
    {
     "data": {
      "text/html": [
       "<div>\n",
       "<style scoped>\n",
       "    .dataframe tbody tr th:only-of-type {\n",
       "        vertical-align: middle;\n",
       "    }\n",
       "\n",
       "    .dataframe tbody tr th {\n",
       "        vertical-align: top;\n",
       "    }\n",
       "\n",
       "    .dataframe thead th {\n",
       "        text-align: right;\n",
       "    }\n",
       "</style>\n",
       "<table border=\"1\" class=\"dataframe\">\n",
       "  <thead>\n",
       "    <tr style=\"text-align: right;\">\n",
       "      <th></th>\n",
       "      <th>season</th>\n",
       "      <th>year</th>\n",
       "      <th>month</th>\n",
       "      <th>hour</th>\n",
       "      <th>is_holiday</th>\n",
       "      <th>weekday</th>\n",
       "      <th>is_workingday</th>\n",
       "      <th>weather_condition</th>\n",
       "      <th>temp_celsius</th>\n",
       "      <th>atem_celsius</th>\n",
       "      <th>...</th>\n",
       "      <th>Rolling_Avg_Rent_24_h</th>\n",
       "      <th>Rolling_Avg_Rent_168_h</th>\n",
       "      <th>hourly_rental_deviation</th>\n",
       "      <th>hourly_rental_deviation_label</th>\n",
       "      <th>Lagged_Rent_1h</th>\n",
       "      <th>count_prev_week_same_hour</th>\n",
       "      <th>temp_type_diff_ratio</th>\n",
       "      <th>hourly_trend</th>\n",
       "      <th>daily_trend</th>\n",
       "      <th>monthly_trend</th>\n",
       "    </tr>\n",
       "    <tr>\n",
       "      <th>date</th>\n",
       "      <th></th>\n",
       "      <th></th>\n",
       "      <th></th>\n",
       "      <th></th>\n",
       "      <th></th>\n",
       "      <th></th>\n",
       "      <th></th>\n",
       "      <th></th>\n",
       "      <th></th>\n",
       "      <th></th>\n",
       "      <th></th>\n",
       "      <th></th>\n",
       "      <th></th>\n",
       "      <th></th>\n",
       "      <th></th>\n",
       "      <th></th>\n",
       "      <th></th>\n",
       "      <th></th>\n",
       "      <th></th>\n",
       "      <th></th>\n",
       "      <th></th>\n",
       "    </tr>\n",
       "  </thead>\n",
       "  <tbody>\n",
       "    <tr>\n",
       "      <th>2011-01-01 00:00:00</th>\n",
       "      <td>1</td>\n",
       "      <td>0</td>\n",
       "      <td>1</td>\n",
       "      <td>0</td>\n",
       "      <td>0</td>\n",
       "      <td>6</td>\n",
       "      <td>0</td>\n",
       "      <td>1</td>\n",
       "      <td>0.24</td>\n",
       "      <td>0.2879</td>\n",
       "      <td>...</td>\n",
       "      <td>16.000000</td>\n",
       "      <td>16.000000</td>\n",
       "      <td>-20.222222</td>\n",
       "      <td>below_average</td>\n",
       "      <td>0.0</td>\n",
       "      <td>0.0</td>\n",
       "      <td>-0.959583</td>\n",
       "      <td>53.898072</td>\n",
       "      <td>190.209793</td>\n",
       "      <td>94.424773</td>\n",
       "    </tr>\n",
       "    <tr>\n",
       "      <th>2011-01-01 01:00:00</th>\n",
       "      <td>1</td>\n",
       "      <td>0</td>\n",
       "      <td>1</td>\n",
       "      <td>1</td>\n",
       "      <td>0</td>\n",
       "      <td>6</td>\n",
       "      <td>0</td>\n",
       "      <td>1</td>\n",
       "      <td>0.22</td>\n",
       "      <td>0.2727</td>\n",
       "      <td>...</td>\n",
       "      <td>28.000000</td>\n",
       "      <td>28.000000</td>\n",
       "      <td>6.555556</td>\n",
       "      <td>above_average</td>\n",
       "      <td>16.0</td>\n",
       "      <td>0.0</td>\n",
       "      <td>-1.019545</td>\n",
       "      <td>33.375691</td>\n",
       "      <td>190.209793</td>\n",
       "      <td>94.424773</td>\n",
       "    </tr>\n",
       "    <tr>\n",
       "      <th>2011-01-01 02:00:00</th>\n",
       "      <td>1</td>\n",
       "      <td>0</td>\n",
       "      <td>1</td>\n",
       "      <td>2</td>\n",
       "      <td>0</td>\n",
       "      <td>6</td>\n",
       "      <td>0</td>\n",
       "      <td>1</td>\n",
       "      <td>0.22</td>\n",
       "      <td>0.2727</td>\n",
       "      <td>...</td>\n",
       "      <td>29.333333</td>\n",
       "      <td>29.333333</td>\n",
       "      <td>6.555556</td>\n",
       "      <td>above_average</td>\n",
       "      <td>40.0</td>\n",
       "      <td>0.0</td>\n",
       "      <td>-1.019545</td>\n",
       "      <td>22.869930</td>\n",
       "      <td>190.209793</td>\n",
       "      <td>94.424773</td>\n",
       "    </tr>\n",
       "    <tr>\n",
       "      <th>2011-01-01 03:00:00</th>\n",
       "      <td>1</td>\n",
       "      <td>0</td>\n",
       "      <td>1</td>\n",
       "      <td>3</td>\n",
       "      <td>0</td>\n",
       "      <td>6</td>\n",
       "      <td>0</td>\n",
       "      <td>1</td>\n",
       "      <td>0.24</td>\n",
       "      <td>0.2879</td>\n",
       "      <td>...</td>\n",
       "      <td>25.250000</td>\n",
       "      <td>25.250000</td>\n",
       "      <td>0.444444</td>\n",
       "      <td>above_average</td>\n",
       "      <td>32.0</td>\n",
       "      <td>0.0</td>\n",
       "      <td>-0.959583</td>\n",
       "      <td>11.727403</td>\n",
       "      <td>190.209793</td>\n",
       "      <td>94.424773</td>\n",
       "    </tr>\n",
       "    <tr>\n",
       "      <th>2011-01-01 04:00:00</th>\n",
       "      <td>1</td>\n",
       "      <td>0</td>\n",
       "      <td>1</td>\n",
       "      <td>4</td>\n",
       "      <td>0</td>\n",
       "      <td>6</td>\n",
       "      <td>0</td>\n",
       "      <td>1</td>\n",
       "      <td>0.24</td>\n",
       "      <td>0.2879</td>\n",
       "      <td>...</td>\n",
       "      <td>20.400000</td>\n",
       "      <td>20.400000</td>\n",
       "      <td>-2.888889</td>\n",
       "      <td>below_average</td>\n",
       "      <td>13.0</td>\n",
       "      <td>0.0</td>\n",
       "      <td>-0.959583</td>\n",
       "      <td>6.352941</td>\n",
       "      <td>190.209793</td>\n",
       "      <td>94.424773</td>\n",
       "    </tr>\n",
       "  </tbody>\n",
       "</table>\n",
       "<p>5 rows × 34 columns</p>\n",
       "</div>"
      ],
      "text/plain": [
       "                     season  year  month  hour  is_holiday  weekday  \\\n",
       "date                                                                  \n",
       "2011-01-01 00:00:00       1     0      1     0           0        6   \n",
       "2011-01-01 01:00:00       1     0      1     1           0        6   \n",
       "2011-01-01 02:00:00       1     0      1     2           0        6   \n",
       "2011-01-01 03:00:00       1     0      1     3           0        6   \n",
       "2011-01-01 04:00:00       1     0      1     4           0        6   \n",
       "\n",
       "                     is_workingday  weather_condition  temp_celsius  \\\n",
       "date                                                                  \n",
       "2011-01-01 00:00:00              0                  1          0.24   \n",
       "2011-01-01 01:00:00              0                  1          0.22   \n",
       "2011-01-01 02:00:00              0                  1          0.22   \n",
       "2011-01-01 03:00:00              0                  1          0.24   \n",
       "2011-01-01 04:00:00              0                  1          0.24   \n",
       "\n",
       "                     atem_celsius  ...  Rolling_Avg_Rent_24_h  \\\n",
       "date                               ...                          \n",
       "2011-01-01 00:00:00        0.2879  ...              16.000000   \n",
       "2011-01-01 01:00:00        0.2727  ...              28.000000   \n",
       "2011-01-01 02:00:00        0.2727  ...              29.333333   \n",
       "2011-01-01 03:00:00        0.2879  ...              25.250000   \n",
       "2011-01-01 04:00:00        0.2879  ...              20.400000   \n",
       "\n",
       "                     Rolling_Avg_Rent_168_h  hourly_rental_deviation  \\\n",
       "date                                                                   \n",
       "2011-01-01 00:00:00               16.000000               -20.222222   \n",
       "2011-01-01 01:00:00               28.000000                 6.555556   \n",
       "2011-01-01 02:00:00               29.333333                 6.555556   \n",
       "2011-01-01 03:00:00               25.250000                 0.444444   \n",
       "2011-01-01 04:00:00               20.400000                -2.888889   \n",
       "\n",
       "                     hourly_rental_deviation_label  Lagged_Rent_1h  \\\n",
       "date                                                                 \n",
       "2011-01-01 00:00:00                  below_average             0.0   \n",
       "2011-01-01 01:00:00                  above_average            16.0   \n",
       "2011-01-01 02:00:00                  above_average            40.0   \n",
       "2011-01-01 03:00:00                  above_average            32.0   \n",
       "2011-01-01 04:00:00                  below_average            13.0   \n",
       "\n",
       "                    count_prev_week_same_hour  temp_type_diff_ratio  \\\n",
       "date                                                                  \n",
       "2011-01-01 00:00:00                       0.0             -0.959583   \n",
       "2011-01-01 01:00:00                       0.0             -1.019545   \n",
       "2011-01-01 02:00:00                       0.0             -1.019545   \n",
       "2011-01-01 03:00:00                       0.0             -0.959583   \n",
       "2011-01-01 04:00:00                       0.0             -0.959583   \n",
       "\n",
       "                     hourly_trend  daily_trend  monthly_trend  \n",
       "date                                                           \n",
       "2011-01-01 00:00:00     53.898072   190.209793      94.424773  \n",
       "2011-01-01 01:00:00     33.375691   190.209793      94.424773  \n",
       "2011-01-01 02:00:00     22.869930   190.209793      94.424773  \n",
       "2011-01-01 03:00:00     11.727403   190.209793      94.424773  \n",
       "2011-01-01 04:00:00      6.352941   190.209793      94.424773  \n",
       "\n",
       "[5 rows x 34 columns]"
      ]
     },
     "execution_count": 102,
     "metadata": {},
     "output_type": "execute_result"
    }
   ],
   "source": [
    "data = pd.read_csv(\"/Users/lucazosso/Desktop/IE_Course/Term_2/Python II/Group_Assignement/python_grp3/data/bike_data_cleaned_features.csv\", index_col='date', parse_dates=['date'])\n",
    "\n",
    "data.head()"
   ]
  },
  {
   "cell_type": "code",
   "execution_count": 115,
   "metadata": {},
   "outputs": [
    {
     "data": {
      "text/plain": [
       "Index(['season', 'year', 'month', 'hour', 'is_holiday', 'weekday',\n",
       "       'is_workingday', 'weather_condition', 'temp_celsius', 'atem_celsius',\n",
       "       'humidity', 'windspeed', 'casual_user_ct', 'registered_user_ct',\n",
       "       'total_bike_ct', 'day_part', 'rush_hour', 'casual_to_registered_ratio',\n",
       "       'Rolling_Avg_Rent_2_h', 'Rolling_Avg_Rent_3_h', 'Rolling_Avg_Rent_4_h',\n",
       "       'Rolling_Avg_Rent_5_h', 'Rolling_Avg_Rent_6_h', 'Rolling_Avg_Rent_12_h',\n",
       "       'Rolling_Avg_Rent_24_h', 'Rolling_Avg_Rent_168_h',\n",
       "       'hourly_rental_deviation', 'hourly_rental_deviation_label',\n",
       "       'Lagged_Rent_1h', 'count_prev_week_same_hour', 'temp_type_diff_ratio',\n",
       "       'hourly_trend', 'daily_trend', 'monthly_trend', 'temp_celsius_real',\n",
       "       'atem_celsius_real', 'humidity_real', 'windspeed_real'],\n",
       "      dtype='object')"
      ]
     },
     "execution_count": 115,
     "metadata": {},
     "output_type": "execute_result"
    }
   ],
   "source": [
    "data.columns"
   ]
  },
  {
   "cell_type": "code",
   "execution_count": 105,
   "metadata": {},
   "outputs": [],
   "source": [
    "# Define the mapping dictionary\n",
    "weather_condition_mapping = {\n",
    "    1: 'Clear and Variably Cloudy Conditions, No Precipitation',\n",
    "    2: 'Misty Conditions with Varied Cloud Cover',\n",
    "    3: 'Light Precipitation and Thunderstorms',\n",
    "    4: 'Severe Weather Conditions'\n",
    "}\n",
    "\n",
    "# Apply the mapping to the 'weather_condition' column\n",
    "data['weather_condition'] = data['weather_condition'].map(weather_condition_mapping)\n",
    "\n"
   ]
  },
  {
   "cell_type": "code",
   "execution_count": 107,
   "metadata": {},
   "outputs": [
    {
     "data": {
      "text/plain": [
       "[0.02,\n",
       " 0.04,\n",
       " 0.06,\n",
       " 0.08,\n",
       " 0.1,\n",
       " 0.12,\n",
       " 0.14,\n",
       " 0.16,\n",
       " 0.18,\n",
       " 0.2,\n",
       " 0.22,\n",
       " 0.24,\n",
       " 0.26,\n",
       " 0.28,\n",
       " 0.3,\n",
       " 0.32,\n",
       " 0.34,\n",
       " 0.36,\n",
       " 0.38,\n",
       " 0.4,\n",
       " 0.42,\n",
       " 0.44,\n",
       " 0.46,\n",
       " 0.48,\n",
       " 0.5,\n",
       " 0.52,\n",
       " 0.54,\n",
       " 0.56,\n",
       " 0.58,\n",
       " 0.6,\n",
       " 0.62,\n",
       " 0.64,\n",
       " 0.66,\n",
       " 0.68,\n",
       " 0.7,\n",
       " 0.72,\n",
       " 0.74,\n",
       " 0.76,\n",
       " 0.78,\n",
       " 0.8,\n",
       " 0.82,\n",
       " 0.84,\n",
       " 0.86,\n",
       " 0.88,\n",
       " 0.9,\n",
       " 0.92,\n",
       " 0.94,\n",
       " 0.96,\n",
       " 0.98,\n",
       " 1.0]"
      ]
     },
     "execution_count": 107,
     "metadata": {},
     "output_type": "execute_result"
    }
   ],
   "source": [
    "sorted_unique_temp_celsius = sorted(data['temp_celsius'].unique().tolist())\n",
    "sorted_unique_temp_celsius\n"
   ]
  },
  {
   "cell_type": "code",
   "execution_count": 108,
   "metadata": {},
   "outputs": [
    {
     "name": "stdout",
     "output_type": "stream",
     "text": [
      "[ 3.28  2.34  1.4   7.04  9.86  8.92 11.74 13.62 12.68 10.8   7.98  6.1\n",
      "  4.22 -0.48 -1.42  0.46 -2.36  5.16 -3.3  -4.24 -5.18 -6.12 -7.06 16.44\n",
      " 18.32 19.26 20.2  14.56 17.38 15.5  23.02 22.08 21.14 23.96 24.9  26.78\n",
      " 27.72 25.84 28.66 30.54 29.6  32.42 33.36 34.3  31.48 35.24 36.18 37.12\n",
      " 38.06 39.  ]\n"
     ]
    }
   ],
   "source": [
    "import numpy as np\n",
    "\n",
    "# According to the UCI Machine Learning Repository,\n",
    "# the temperatures in the bike sharing dataset are \n",
    "# normalized based on a -8 to +39 degrees Celsius scale.\n",
    "\n",
    "# Your array of normalized temperatures\n",
    "temps_normalized = np.array([0.24, 0.22, 0.2 , 0.32, 0.38, 0.36, 0.42, 0.46, 0.44, 0.4 , 0.34,\n",
    "       0.3 , 0.26, 0.16, 0.14, 0.18, 0.12, 0.28, 0.1 , 0.08, 0.06, 0.04,\n",
    "       0.02, 0.52, 0.56, 0.58, 0.6 , 0.48, 0.54, 0.5 , 0.66, 0.64, 0.62,\n",
    "       0.68, 0.7 , 0.74, 0.76, 0.72, 0.78, 0.82, 0.8 , 0.86, 0.88, 0.9 ,\n",
    "       0.84, 0.92, 0.94, 0.96, 0.98, 1.  ])\n",
    "\n",
    "# Convert back to Celsius\n",
    "temps_celsius = temps_normalized * (39 - (-8)) + (-8)\n",
    "\n",
    "print(temps_celsius)\n"
   ]
  },
  {
   "cell_type": "code",
   "execution_count": 113,
   "metadata": {},
   "outputs": [],
   "source": [
    "data['temp_celsius_real'] = data['temp_celsius'] * (39 - (-8)) + (-8)\n",
    "data['atem_celsius_real'] = data['atem_celsius'] * (39 - (-8)) + (-8)\n",
    "data['humidity_real'] = data['humidity'] * 100\n",
    "\n",
    "#km/h, you can multiply by the maximum speed (67 km/h):\n",
    "\n",
    "data['windspeed_real'] = data['windspeed'] * 67"
   ]
  },
  {
   "cell_type": "code",
   "execution_count": 114,
   "metadata": {},
   "outputs": [
    {
     "data": {
      "text/html": [
       "<div>\n",
       "<style scoped>\n",
       "    .dataframe tbody tr th:only-of-type {\n",
       "        vertical-align: middle;\n",
       "    }\n",
       "\n",
       "    .dataframe tbody tr th {\n",
       "        vertical-align: top;\n",
       "    }\n",
       "\n",
       "    .dataframe thead th {\n",
       "        text-align: right;\n",
       "    }\n",
       "</style>\n",
       "<table border=\"1\" class=\"dataframe\">\n",
       "  <thead>\n",
       "    <tr style=\"text-align: right;\">\n",
       "      <th></th>\n",
       "      <th>temp_celsius_real</th>\n",
       "      <th>atem_celsius_real</th>\n",
       "      <th>humidity_real</th>\n",
       "      <th>windspeed_real</th>\n",
       "    </tr>\n",
       "    <tr>\n",
       "      <th>date</th>\n",
       "      <th></th>\n",
       "      <th></th>\n",
       "      <th></th>\n",
       "      <th></th>\n",
       "    </tr>\n",
       "  </thead>\n",
       "  <tbody>\n",
       "    <tr>\n",
       "      <th>2011-01-01 00:00:00</th>\n",
       "      <td>3.28</td>\n",
       "      <td>5.5313</td>\n",
       "      <td>81.0</td>\n",
       "      <td>0.0</td>\n",
       "    </tr>\n",
       "    <tr>\n",
       "      <th>2011-01-01 01:00:00</th>\n",
       "      <td>2.34</td>\n",
       "      <td>4.8169</td>\n",
       "      <td>80.0</td>\n",
       "      <td>0.0</td>\n",
       "    </tr>\n",
       "    <tr>\n",
       "      <th>2011-01-01 02:00:00</th>\n",
       "      <td>2.34</td>\n",
       "      <td>4.8169</td>\n",
       "      <td>80.0</td>\n",
       "      <td>0.0</td>\n",
       "    </tr>\n",
       "    <tr>\n",
       "      <th>2011-01-01 03:00:00</th>\n",
       "      <td>3.28</td>\n",
       "      <td>5.5313</td>\n",
       "      <td>75.0</td>\n",
       "      <td>0.0</td>\n",
       "    </tr>\n",
       "    <tr>\n",
       "      <th>2011-01-01 04:00:00</th>\n",
       "      <td>3.28</td>\n",
       "      <td>5.5313</td>\n",
       "      <td>75.0</td>\n",
       "      <td>0.0</td>\n",
       "    </tr>\n",
       "  </tbody>\n",
       "</table>\n",
       "</div>"
      ],
      "text/plain": [
       "                     temp_celsius_real  atem_celsius_real  humidity_real  \\\n",
       "date                                                                       \n",
       "2011-01-01 00:00:00               3.28             5.5313           81.0   \n",
       "2011-01-01 01:00:00               2.34             4.8169           80.0   \n",
       "2011-01-01 02:00:00               2.34             4.8169           80.0   \n",
       "2011-01-01 03:00:00               3.28             5.5313           75.0   \n",
       "2011-01-01 04:00:00               3.28             5.5313           75.0   \n",
       "\n",
       "                     windspeed_real  \n",
       "date                                 \n",
       "2011-01-01 00:00:00             0.0  \n",
       "2011-01-01 01:00:00             0.0  \n",
       "2011-01-01 02:00:00             0.0  \n",
       "2011-01-01 03:00:00             0.0  \n",
       "2011-01-01 04:00:00             0.0  "
      ]
     },
     "execution_count": 114,
     "metadata": {},
     "output_type": "execute_result"
    }
   ],
   "source": [
    "data[['temp_celsius_real', 'atem_celsius_real', 'humidity_real', 'windspeed_real']].head()"
   ]
  },
  {
   "cell_type": "code",
   "execution_count": 117,
   "metadata": {},
   "outputs": [
    {
     "data": {
      "text/plain": [
       "Index(['season', 'year', 'month', 'hour', 'is_holiday', 'weekday',\n",
       "       'is_workingday', 'weather_condition', 'temp_celsius', 'atem_celsius',\n",
       "       'humidity', 'windspeed', 'casual_user_ct', 'registered_user_ct',\n",
       "       'total_bike_ct', 'day_part', 'rush_hour', 'casual_to_registered_ratio',\n",
       "       'Rolling_Avg_Rent_2_h', 'Rolling_Avg_Rent_3_h', 'Rolling_Avg_Rent_4_h',\n",
       "       'Rolling_Avg_Rent_5_h', 'Rolling_Avg_Rent_6_h', 'Rolling_Avg_Rent_12_h',\n",
       "       'Rolling_Avg_Rent_24_h', 'Rolling_Avg_Rent_168_h',\n",
       "       'hourly_rental_deviation', 'hourly_rental_deviation_label',\n",
       "       'Lagged_Rent_1h', 'count_prev_week_same_hour', 'temp_type_diff_ratio',\n",
       "       'hourly_trend', 'daily_trend', 'monthly_trend', 'temp_celsius_real',\n",
       "       'atem_celsius_real', 'humidity_real', 'windspeed_real', 'day'],\n",
       "      dtype='object')"
      ]
     },
     "execution_count": 117,
     "metadata": {},
     "output_type": "execute_result"
    }
   ],
   "source": [
    "data.columns"
   ]
  },
  {
   "cell_type": "code",
   "execution_count": 124,
   "metadata": {},
   "outputs": [
    {
     "data": {
      "text/plain": [
       "date\n",
       "2011-01-01 00:00:00    1\n",
       "2011-01-01 01:00:00    1\n",
       "2011-01-01 02:00:00    1\n",
       "2011-01-01 03:00:00    1\n",
       "2011-01-01 04:00:00    1\n",
       "                      ..\n",
       "2012-12-31 19:00:00    2\n",
       "2012-12-31 20:00:00    2\n",
       "2012-12-31 21:00:00    1\n",
       "2012-12-31 22:00:00    1\n",
       "2012-12-31 23:00:00    1\n",
       "Name: weather_condition, Length: 17379, dtype: int64"
      ]
     },
     "execution_count": 124,
     "metadata": {},
     "output_type": "execute_result"
    }
   ],
   "source": [
    "data = pd.read_csv(\"/Users/lucazosso/Desktop/IE_Course/Term_2/Python II/Group_Assignement/python_grp3/data/bike_data_cleaned_features.csv\", index_col='date', parse_dates=['date'])\n",
    "\n",
    "data['weather_condition']"
   ]
  },
  {
   "cell_type": "code",
   "execution_count": 147,
   "metadata": {},
   "outputs": [
    {
     "name": "stdout",
     "output_type": "stream",
     "text": [
      "Requirement already satisfied: pydeck in /Users/lucazosso/opt/anaconda3/lib/python3.9/site-packages (0.8.1b0)\n",
      "Requirement already satisfied: jinja2>=2.10.1 in /Users/lucazosso/opt/anaconda3/lib/python3.9/site-packages (from pydeck) (3.1.3)\n",
      "Requirement already satisfied: numpy>=1.16.4 in /Users/lucazosso/opt/anaconda3/lib/python3.9/site-packages (from pydeck) (1.26.4)\n",
      "Requirement already satisfied: MarkupSafe>=2.0 in /Users/lucazosso/opt/anaconda3/lib/python3.9/site-packages (from jinja2>=2.10.1->pydeck) (2.1.3)\n"
     ]
    }
   ],
   "source": [
    "!pip install pydeck"
   ]
  },
  {
   "cell_type": "code",
   "execution_count": 148,
   "metadata": {},
   "outputs": [
    {
     "name": "stderr",
     "output_type": "stream",
     "text": [
      "2024-03-20 17:34:47.573 \n",
      "  \u001b[33m\u001b[1mWarning:\u001b[0m to view this Streamlit app on a browser, run it with the following\n",
      "  command:\n",
      "\n",
      "    streamlit run /Users/lucazosso/opt/anaconda3/lib/python3.9/site-packages/ipykernel_launcher.py [ARGUMENTS]\n"
     ]
    },
    {
     "data": {
      "text/plain": [
       "DeltaGenerator()"
      ]
     },
     "execution_count": 148,
     "metadata": {},
     "output_type": "execute_result"
    }
   ],
   "source": [
    "# Use Folium to display the map od Washington DC, and then display a circle of radius of the size of the bike_count\n",
    "import streamlit as st\n",
    "import pydeck as pdk\n",
    "\n",
    "# Example coordinates for Washington DC\n",
    "latitude, longitude = 38.8951, -77.0364\n",
    "# Example data - replace this with your dataset's bike usage\n",
    "bike_usage = 1000  # This value could be dynamically set based on your dataset\n",
    "\n",
    "# Define the map layer\n",
    "map_layer = pdk.Layer(\n",
    "    \"ScatterplotLayer\",\n",
    "    data=[{\n",
    "        \"position\": [longitude, latitude],\n",
    "        \"radius\": bike_usage,  # Radius based on bike usage\n",
    "        \"color\": [255, 0, 0],  # Example color (red)\n",
    "    }],\n",
    "    get_position=\"position\",\n",
    "    get_radius=\"radius\",\n",
    "    get_color=\"color\",\n",
    "    pickable=True,\n",
    "    opacity=0.8,\n",
    ")\n",
    "\n",
    "# Set the view for the map\n",
    "view_state = pdk.ViewState(latitude=latitude, longitude=longitude, zoom=11)\n",
    "\n",
    "# Render the map with the circle overlay in Streamlit\n",
    "st.pydeck_chart(pdk.Deck(layers=[map_layer], initial_view_state=view_state))\n"
   ]
  },
  {
   "cell_type": "code",
   "execution_count": 149,
   "metadata": {},
   "outputs": [
    {
     "name": "stderr",
     "output_type": "stream",
     "text": [
      "UsageError: Line magic function `%streamlit` not found.\n"
     ]
    }
   ],
   "source": [
    "%streamlit run /Users/lucazosso/opt/anaconda3/lib/python3.9/site-packages/ipykernel_launcher.py"
   ]
  },
  {
   "cell_type": "code",
   "execution_count": null,
   "metadata": {},
   "outputs": [],
   "source": []
  }
 ],
 "metadata": {
  "kernelspec": {
   "display_name": "base",
   "language": "python",
   "name": "python3"
  },
  "language_info": {
   "codemirror_mode": {
    "name": "ipython",
    "version": 3
   },
   "file_extension": ".py",
   "mimetype": "text/x-python",
   "name": "python",
   "nbconvert_exporter": "python",
   "pygments_lexer": "ipython3",
   "version": "3.9.18"
  }
 },
 "nbformat": 4,
 "nbformat_minor": 2
}
